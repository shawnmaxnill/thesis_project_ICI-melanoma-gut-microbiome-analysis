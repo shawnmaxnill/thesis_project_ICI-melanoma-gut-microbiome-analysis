{
 "cells": [
  {
   "cell_type": "code",
   "execution_count": 1,
   "id": "ca153ba6-7bf7-48a9-978f-b8b7625ae65f",
   "metadata": {
    "tags": []
   },
   "outputs": [],
   "source": [
    "# Data handling\n",
    "import pandas as pd\n",
    "\n",
    "# Beta analysis\n",
    "from skbio.diversity import beta_diversity\n",
    "from skbio.stats.composition import clr\n",
    "import numpy as np\n",
    "from skbio.stats.distance import DistanceMatrix\n",
    "from scipy.spatial.distance import pdist, squareform\n",
    "\n",
    "# Statistical tesing\n",
    "from skbio.stats.distance import permanova"
   ]
  },
  {
   "cell_type": "code",
   "execution_count": 2,
   "id": "1947a9cb-958c-4c48-83be-009f0a209afc",
   "metadata": {
    "tags": []
   },
   "outputs": [],
   "source": [
    "# Importing data\n",
    "import_str = \"/ceph/projects/179_Oncdon/shawn.loo/workspace/\"\n",
    "\n",
    "V107_data = pd.read_csv(f\"{import_str}V107_maindataset.csv\")\n",
    "E975_data = pd.read_csv(f\"{import_str}E975_maindataset.csv\")"
   ]
  },
  {
   "cell_type": "code",
   "execution_count": 3,
   "id": "2f037818-7270-40db-80f6-22d3702f0b3b",
   "metadata": {
    "tags": []
   },
   "outputs": [
    {
     "data": {
      "text/html": [
       "<div>\n",
       "<style scoped>\n",
       "    .dataframe tbody tr th:only-of-type {\n",
       "        vertical-align: middle;\n",
       "    }\n",
       "\n",
       "    .dataframe tbody tr th {\n",
       "        vertical-align: top;\n",
       "    }\n",
       "\n",
       "    .dataframe thead th {\n",
       "        text-align: right;\n",
       "    }\n",
       "</style>\n",
       "<table border=\"1\" class=\"dataframe\">\n",
       "  <thead>\n",
       "    <tr style=\"text-align: right;\">\n",
       "      <th></th>\n",
       "      <th>genus</th>\n",
       "      <th>phylum</th>\n",
       "      <th>sample_id</th>\n",
       "      <th>abundance</th>\n",
       "      <th>group</th>\n",
       "      <th>week</th>\n",
       "      <th>pt_identifier</th>\n",
       "    </tr>\n",
       "  </thead>\n",
       "  <tbody>\n",
       "    <tr>\n",
       "      <th>8</th>\n",
       "      <td>Alistipes</td>\n",
       "      <td>Bacteroidota</td>\n",
       "      <td>179supB00007a</td>\n",
       "      <td>15.02526</td>\n",
       "      <td>R</td>\n",
       "      <td>week0</td>\n",
       "      <td>MAID-0728</td>\n",
       "    </tr>\n",
       "    <tr>\n",
       "      <th>12</th>\n",
       "      <td>Anaerobutyricum</td>\n",
       "      <td>Firmicutes</td>\n",
       "      <td>179supB00007a</td>\n",
       "      <td>1.96002</td>\n",
       "      <td>R</td>\n",
       "      <td>week0</td>\n",
       "      <td>MAID-0728</td>\n",
       "    </tr>\n",
       "    <tr>\n",
       "      <th>19</th>\n",
       "      <td>Anaerostipes</td>\n",
       "      <td>Firmicutes</td>\n",
       "      <td>179supB00007a</td>\n",
       "      <td>1.43319</td>\n",
       "      <td>R</td>\n",
       "      <td>week0</td>\n",
       "      <td>MAID-0728</td>\n",
       "    </tr>\n",
       "    <tr>\n",
       "      <th>29</th>\n",
       "      <td>Bacteroides</td>\n",
       "      <td>Bacteroidota</td>\n",
       "      <td>179supB00007a</td>\n",
       "      <td>2.68112</td>\n",
       "      <td>R</td>\n",
       "      <td>week0</td>\n",
       "      <td>MAID-0728</td>\n",
       "    </tr>\n",
       "    <tr>\n",
       "      <th>33</th>\n",
       "      <td>Bifidobacterium</td>\n",
       "      <td>Actinobacteria</td>\n",
       "      <td>179supB00007a</td>\n",
       "      <td>4.82403</td>\n",
       "      <td>R</td>\n",
       "      <td>week0</td>\n",
       "      <td>MAID-0728</td>\n",
       "    </tr>\n",
       "    <tr>\n",
       "      <th>...</th>\n",
       "      <td>...</td>\n",
       "      <td>...</td>\n",
       "      <td>...</td>\n",
       "      <td>...</td>\n",
       "      <td>...</td>\n",
       "      <td>...</td>\n",
       "      <td>...</td>\n",
       "    </tr>\n",
       "    <tr>\n",
       "      <th>105143</th>\n",
       "      <td>Lachnoclostridium</td>\n",
       "      <td>Firmicutes</td>\n",
       "      <td>179fece00063a</td>\n",
       "      <td>24.49536</td>\n",
       "      <td>NR</td>\n",
       "      <td>week6</td>\n",
       "      <td>MAID-1101.1</td>\n",
       "    </tr>\n",
       "    <tr>\n",
       "      <th>105148</th>\n",
       "      <td>Lacticaseibacillus</td>\n",
       "      <td>Firmicutes</td>\n",
       "      <td>179fece00063a</td>\n",
       "      <td>1.63017</td>\n",
       "      <td>NR</td>\n",
       "      <td>week6</td>\n",
       "      <td>MAID-1101.1</td>\n",
       "    </tr>\n",
       "    <tr>\n",
       "      <th>105213</th>\n",
       "      <td>Phocaeicola</td>\n",
       "      <td>Bacteroidota</td>\n",
       "      <td>179fece00063a</td>\n",
       "      <td>1.54947</td>\n",
       "      <td>NR</td>\n",
       "      <td>week6</td>\n",
       "      <td>MAID-1101.1</td>\n",
       "    </tr>\n",
       "    <tr>\n",
       "      <th>105222</th>\n",
       "      <td>Pseudoramibacter</td>\n",
       "      <td>Firmicutes</td>\n",
       "      <td>179fece00063a</td>\n",
       "      <td>2.16858</td>\n",
       "      <td>NR</td>\n",
       "      <td>week6</td>\n",
       "      <td>MAID-1101.1</td>\n",
       "    </tr>\n",
       "    <tr>\n",
       "      <th>105241</th>\n",
       "      <td>Slackia</td>\n",
       "      <td>Actinobacteria</td>\n",
       "      <td>179fece00063a</td>\n",
       "      <td>28.11612</td>\n",
       "      <td>NR</td>\n",
       "      <td>week6</td>\n",
       "      <td>MAID-1101.1</td>\n",
       "    </tr>\n",
       "  </tbody>\n",
       "</table>\n",
       "<p>3055 rows × 7 columns</p>\n",
       "</div>"
      ],
      "text/plain": [
       "                     genus          phylum      sample_id  abundance group  \\\n",
       "8                Alistipes    Bacteroidota  179supB00007a   15.02526     R   \n",
       "12         Anaerobutyricum      Firmicutes  179supB00007a    1.96002     R   \n",
       "19            Anaerostipes      Firmicutes  179supB00007a    1.43319     R   \n",
       "29             Bacteroides    Bacteroidota  179supB00007a    2.68112     R   \n",
       "33         Bifidobacterium  Actinobacteria  179supB00007a    4.82403     R   \n",
       "...                    ...             ...            ...        ...   ...   \n",
       "105143   Lachnoclostridium      Firmicutes  179fece00063a   24.49536    NR   \n",
       "105148  Lacticaseibacillus      Firmicutes  179fece00063a    1.63017    NR   \n",
       "105213         Phocaeicola    Bacteroidota  179fece00063a    1.54947    NR   \n",
       "105222    Pseudoramibacter      Firmicutes  179fece00063a    2.16858    NR   \n",
       "105241             Slackia  Actinobacteria  179fece00063a   28.11612    NR   \n",
       "\n",
       "         week pt_identifier  \n",
       "8       week0     MAID-0728  \n",
       "12      week0     MAID-0728  \n",
       "19      week0     MAID-0728  \n",
       "29      week0     MAID-0728  \n",
       "33      week0     MAID-0728  \n",
       "...       ...           ...  \n",
       "105143  week6   MAID-1101.1  \n",
       "105148  week6   MAID-1101.1  \n",
       "105213  week6   MAID-1101.1  \n",
       "105222  week6   MAID-1101.1  \n",
       "105241  week6   MAID-1101.1  \n",
       "\n",
       "[3055 rows x 7 columns]"
      ]
     },
     "execution_count": 3,
     "metadata": {},
     "output_type": "execute_result"
    }
   ],
   "source": [
    "V107_data[V107_data[\"abundance\"] > 1]"
   ]
  },
  {
   "cell_type": "code",
   "execution_count": 4,
   "id": "af022acf-d8a9-4ea5-ad73-d5ae54ae0303",
   "metadata": {
    "tags": []
   },
   "outputs": [],
   "source": [
    "# Prepare table into OTU format\n",
    "def create_OTU(df):\n",
    "\n",
    "    result_tbl = df.pivot_table(\n",
    "        index = \"sample_id\",\n",
    "        columns = \"genus\",\n",
    "        values = \"abundance\",\n",
    "        aggfunc = \"sum\",\n",
    "        fill_value = 0\n",
    "    )\n",
    "    \n",
    "    return result_tbl\n",
    "\n",
    "# Creating OTU table\n",
    "V107_otu = create_OTU(V107_data)\n",
    "E975_otu = create_OTU(E975_data)\n",
    "\n",
    "# Building metadata for plotting\n",
    "def create_metadata(df):\n",
    "    \n",
    "    metadata = df.drop_duplicates(subset = [\"sample_id\"])\n",
    "    metadata = metadata[[\"sample_id\", \"group\", \"week\", \"pt_identifier\"]]\n",
    "    metadata.set_index(\"sample_id\", inplace = True)\n",
    "    \n",
    "    return metadata\n",
    "\n",
    "# Create metadata\n",
    "V107_metadata = create_metadata(V107_data)\n",
    "E975_metadata = create_metadata(E975_data)"
   ]
  },
  {
   "cell_type": "code",
   "execution_count": 5,
   "id": "6299c039-d52c-44d4-bf57-093117dd3baf",
   "metadata": {
    "tags": []
   },
   "outputs": [],
   "source": [
    "# Saving for R\n",
    "V107_metadata.to_csv(\"V107_metadata.csv\")\n",
    "E975_metadata.to_csv(\"E975_metadata.csv\")"
   ]
  },
  {
   "cell_type": "markdown",
   "id": "b76c5576-7d3b-433e-b56b-7c272dae0726",
   "metadata": {},
   "source": [
    "### Bray-Curtis Calculation"
   ]
  },
  {
   "cell_type": "code",
   "execution_count": 6,
   "id": "cf6c64c5-2fec-4b49-865a-9df4fe36d16e",
   "metadata": {
    "tags": []
   },
   "outputs": [],
   "source": [
    "V107_bray_curtis_df = beta_diversity(\"braycurtis\", V107_otu.values, V107_otu.index)\n",
    "E975_bray_curtis_df = beta_diversity(\"braycurtis\", E975_otu.values, E975_otu.index)"
   ]
  },
  {
   "cell_type": "markdown",
   "id": "d768a8fc-7b0b-48c3-a4e1-90ea95d09d61",
   "metadata": {},
   "source": [
    "### Jaccard Calculation"
   ]
  },
  {
   "cell_type": "code",
   "execution_count": 7,
   "id": "a9a22f52-c6eb-4bba-8dcd-3fa92a22aa91",
   "metadata": {
    "tags": []
   },
   "outputs": [],
   "source": [
    "# Convert to boolean value\n",
    "V107_bool_df = (V107_otu > 0).astype(int)\n",
    "E975_bool_df = (E975_otu > 0).astype(int)"
   ]
  },
  {
   "cell_type": "code",
   "execution_count": 8,
   "id": "ebd17002-8208-45a6-b613-7e76cfd53477",
   "metadata": {
    "tags": []
   },
   "outputs": [],
   "source": [
    "V107_jaccard = beta_diversity(\"jaccard\", V107_bool_df.values, V107_otu.index)\n",
    "E975_jaccard = beta_diversity(\"jaccard\", E975_bool_df.values, E975_otu.index)"
   ]
  },
  {
   "cell_type": "markdown",
   "id": "7f91a287-98e6-4c55-84ee-e35fb0edf155",
   "metadata": {},
   "source": [
    "### Aitchison Calculation"
   ]
  },
  {
   "cell_type": "code",
   "execution_count": 9,
   "id": "7cf432e5-4ce9-4ffe-a270-97fc8a065179",
   "metadata": {
    "tags": []
   },
   "outputs": [],
   "source": [
    "def add_psuedocount_clr(df):\n",
    "\n",
    "    dataset = df.copy()\n",
    "\n",
    "    # Loop through each row\n",
    "    for i in dataset.index:\n",
    "        \n",
    "        # Retrieve values\n",
    "        row_val = dataset.loc[i].values\n",
    "        \n",
    "        # Get nonzero values\n",
    "        nonzero_row_val = row_val[row_val > 0]\n",
    "        \n",
    "        # Retrieve pseudo value\n",
    "        psuedo_val = 0.5 * nonzero_row_val.min()\n",
    "        \n",
    "        # Replace zero with psuedo value\n",
    "        row_val[row_val == 0] = psuedo_val\n",
    "        \n",
    "        # normalize\n",
    "        dataset.loc[i] = row_val / row_val.sum()\n",
    "        \n",
    "    # Perform CLR\n",
    "    clr_dataset = pd.DataFrame(clr(dataset), index = dataset.index, columns = dataset.columns)\n",
    "    \n",
    "    return clr_dataset\n",
    "\n",
    "V107_clr = add_psuedocount_clr(V107_otu)\n",
    "E975_clr = add_psuedocount_clr(E975_otu)"
   ]
  },
  {
   "cell_type": "code",
   "execution_count": 10,
   "id": "97be4b9d-d034-45f9-9250-719d51e48eb1",
   "metadata": {
    "tags": []
   },
   "outputs": [],
   "source": [
    "# Perform Aitchison calculation (manually), skbio's version expects raw counts\n",
    "\n",
    "def aitchison_distance_cal(df):\n",
    "    \n",
    "    # Compute pairwise distance\n",
    "    distance = pdist(df.values, metric = \"euclidean\")\n",
    "    \n",
    "    # Convert to matrix form\n",
    "    matrix = squareform(distance)\n",
    "    \n",
    "    # return skbio distance matrix object\n",
    "    result_matrix = DistanceMatrix(matrix, ids = df.index)\n",
    "    \n",
    "    return result_matrix\n",
    "\n",
    "V107_aitchison = aitchison_distance_cal(V107_clr)\n",
    "E975_aitchison = aitchison_distance_cal(E975_clr)"
   ]
  },
  {
   "cell_type": "markdown",
   "id": "ae0603b4-b2a0-4d60-b60a-e607e2f29f0b",
   "metadata": {},
   "source": [
    "### Statistical Test\n",
    "\n",
    "Done in RStudio"
   ]
  },
  {
   "cell_type": "code",
   "execution_count": 11,
   "id": "78c4a1aa-2319-4719-b6c7-fbaf6af7758a",
   "metadata": {
    "tags": []
   },
   "outputs": [],
   "source": [
    "# Convert to csv friendly format to export\n",
    "def convert_to_df(mat):\n",
    "    \n",
    "    dataset = pd.DataFrame(mat.data, index = mat.ids, columns = mat.ids)\n",
    "    \n",
    "    return dataset"
   ]
  },
  {
   "cell_type": "code",
   "execution_count": 12,
   "id": "a112f8bc-32ec-4cc1-b31d-1909c8d1909d",
   "metadata": {
    "tags": []
   },
   "outputs": [],
   "source": [
    "V107_bray_curtis_df = convert_to_df(V107_bray_curtis_df)\n",
    "E975_bray_curtis_df = convert_to_df(E975_bray_curtis_df)\n",
    "\n",
    "V107_jaccard = convert_to_df(V107_jaccard)\n",
    "E975_jaccard = convert_to_df(E975_jaccard)\n",
    "\n",
    "V107_aitchison = convert_to_df(V107_aitchison)\n",
    "E975_aitchison = convert_to_df(E975_aitchison)"
   ]
  },
  {
   "cell_type": "code",
   "execution_count": 13,
   "id": "853bb87f-b30e-4799-94f5-439e64cb22fb",
   "metadata": {
    "tags": []
   },
   "outputs": [],
   "source": [
    "# Saving them for R\n",
    "V107_bray_curtis_df.to_csv(\"V107_bray_curtis.csv\")\n",
    "E975_bray_curtis_df.to_csv(\"E975_bray_curtis.csv\")\n",
    "\n",
    "V107_jaccard.to_csv(\"V107_jaccard.csv\")\n",
    "E975_jaccard.to_csv(\"E975_jaccard.csv\")\n",
    "\n",
    "V107_aitchison.to_csv(\"V107_aitchison.csv\")\n",
    "E975_aitchison.to_csv(\"E975_aitchison.csv\")"
   ]
  }
 ],
 "metadata": {
  "kernelspec": {
   "display_name": "Python 3 (ipykernel)",
   "language": "python",
   "name": "python3"
  },
  "language_info": {
   "codemirror_mode": {
    "name": "ipython",
    "version": 3
   },
   "file_extension": ".py",
   "mimetype": "text/x-python",
   "name": "python",
   "nbconvert_exporter": "python",
   "pygments_lexer": "ipython3",
   "version": "3.10.9"
  }
 },
 "nbformat": 4,
 "nbformat_minor": 5
}
